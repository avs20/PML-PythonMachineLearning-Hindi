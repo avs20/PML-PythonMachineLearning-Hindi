{
  "nbformat": 4,
  "nbformat_minor": 0,
  "metadata": {
    "colab": {
      "name": "Booleans_If_Else.ipynb",
      "version": "0.3.2",
      "provenance": []
    },
    "kernelspec": {
      "name": "python3",
      "display_name": "Python 3"
    }
  },
  "cells": [
    {
      "cell_type": "markdown",
      "metadata": {
        "id": "-1KbMCTFHzM7",
        "colab_type": "text"
      },
      "source": [
        "# Kyon  / Jarurat / Need kya hai\n",
        "\n",
        "\n",
        "### Programming is sequence of instruction\n",
        "\n",
        "Sequence --> ek ke baad ek. \n",
        "\n",
        "Real Life Example - \n",
        "\n",
        "College Jana\n",
        "\n",
        "1. Utho \n",
        "2. Nahao \n",
        "3. Kapde pahno \n",
        "4. bag uthao \n",
        "5. Bike lekar college jao \n",
        "\n",
        "\n",
        "\n"
      ]
    },
    {
      "cell_type": "markdown",
      "metadata": {
        "id": "xbYGei2mKtbo",
        "colab_type": "text"
      },
      "source": [
        "But it's not always the case. \n",
        "\n",
        "\n",
        "On Sunday \n",
        "\n",
        "1. Utho \n",
        "2. Time Dekho, aaj sunday hai \n",
        "3. Wapas So jao\n"
      ]
    },
    {
      "cell_type": "markdown",
      "metadata": {
        "id": "SNsjAsHRK7WS",
        "colab_type": "text"
      },
      "source": [
        "# We need Control \n",
        "\n",
        "Conditon ke hisab se change karna \n",
        "\n",
        "\n"
      ]
    },
    {
      "cell_type": "markdown",
      "metadata": {
        "id": "MNIy8SMMLT9B",
        "colab_type": "text"
      },
      "source": [
        "Condition -- ?\n",
        "\n",
        "Change kaise karna hai --? \n",
        "\n",
        "Condition shi hai ya galat ye kaise check karna hai \n"
      ]
    },
    {
      "cell_type": "markdown",
      "metadata": {
        "id": "Qw7tS-UEgYuC",
        "colab_type": "text"
      },
      "source": [
        "|real examples  | python operator | \n",
        "|----------------|--------------|\n",
        "|day is Sunday - do this |  == |\n",
        "|\n",
        "|day is monday - do that  | == |\n",
        "|\n",
        "|units is greater than 200 | > |\n",
        "|\n",
        "|units is less than 200  | < |\n",
        "|\n",
        "|greater than = | >= |\n",
        "|\n",
        "|less than = | <= |\n",
        "|\n",
        "|day not tuesday  = eat murga | not |\n"
      ]
    },
    {
      "cell_type": "markdown",
      "metadata": {
        "id": "hsO7O62zh2gr",
        "colab_type": "text"
      },
      "source": [
        "a+ b  # arithmatic expression \n",
        "\n",
        "day == 'Sunday' # Conditional expression \n",
        "\n",
        "\n",
        "units > 200 # \n",
        "\n",
        "units < 200 \n",
        "\n"
      ]
    },
    {
      "cell_type": "markdown",
      "metadata": {
        "id": "Waqoqe62h5gm",
        "colab_type": "text"
      },
      "source": [
        "# condition check karni hai \n",
        "\n",
        "satisfy  ---- True \n",
        "\n",
        "not Satisfy   ---- False \n",
        "\n"
      ]
    },
    {
      "cell_type": "code",
      "metadata": {
        "id": "F8ZPWZh5h3RV",
        "colab_type": "code",
        "outputId": "86e24616-910d-4ad4-e749-a7062ae049d1",
        "colab": {
          "base_uri": "https://localhost:8080/",
          "height": 34
        }
      },
      "source": [
        "2 > 5"
      ],
      "execution_count": 0,
      "outputs": [
        {
          "output_type": "execute_result",
          "data": {
            "text/plain": [
              "False"
            ]
          },
          "metadata": {
            "tags": []
          },
          "execution_count": 1
        }
      ]
    },
    {
      "cell_type": "code",
      "metadata": {
        "id": "586XwUryiP6E",
        "colab_type": "code",
        "outputId": "480b5c92-efed-43f5-bde0-df5b71437fe1",
        "colab": {
          "base_uri": "https://localhost:8080/",
          "height": 34
        }
      },
      "source": [
        "5 > 2"
      ],
      "execution_count": 0,
      "outputs": [
        {
          "output_type": "execute_result",
          "data": {
            "text/plain": [
              "True"
            ]
          },
          "metadata": {
            "tags": []
          },
          "execution_count": 2
        }
      ]
    },
    {
      "cell_type": "code",
      "metadata": {
        "id": "ZwPi_Q8kiWOV",
        "colab_type": "code",
        "outputId": "4403b54d-d0e3-49df-d7fb-e235a4ec4563",
        "colab": {
          "base_uri": "https://localhost:8080/",
          "height": 34
        }
      },
      "source": [
        "(2 > 5) == True"
      ],
      "execution_count": 0,
      "outputs": [
        {
          "output_type": "execute_result",
          "data": {
            "text/plain": [
              "False"
            ]
          },
          "metadata": {
            "tags": []
          },
          "execution_count": 3
        }
      ]
    },
    {
      "cell_type": "code",
      "metadata": {
        "id": "Xcld7ta2is4j",
        "colab_type": "code",
        "outputId": "b90e833a-c7b1-41a1-9ef8-c321970b33c5",
        "colab": {
          "base_uri": "https://localhost:8080/",
          "height": 34
        }
      },
      "source": [
        "(2 > 5) == False "
      ],
      "execution_count": 0,
      "outputs": [
        {
          "output_type": "execute_result",
          "data": {
            "text/plain": [
              "True"
            ]
          },
          "metadata": {
            "tags": []
          },
          "execution_count": 4
        }
      ]
    },
    {
      "cell_type": "code",
      "metadata": {
        "id": "gvpZ7kQZi299",
        "colab_type": "code",
        "colab": {}
      },
      "source": [
        "units > 200 and state == 'Maharashtra'\n",
        "\n",
        "units > 200 or state = 'Uttar pradesh'\n",
        "\n"
      ],
      "execution_count": 0,
      "outputs": []
    },
    {
      "cell_type": "markdown",
      "metadata": {
        "id": "7lbHpf6xjT8R",
        "colab_type": "text"
      },
      "source": [
        "not - reverses a boolean value"
      ]
    },
    {
      "cell_type": "code",
      "metadata": {
        "id": "2AS1d3BJjMLZ",
        "colab_type": "code",
        "outputId": "9b73da65-b9f9-4d14-84a4-26f96a4c6c34",
        "colab": {
          "base_uri": "https://localhost:8080/",
          "height": 34
        }
      },
      "source": [
        "not (2 > 5)"
      ],
      "execution_count": 0,
      "outputs": [
        {
          "output_type": "execute_result",
          "data": {
            "text/plain": [
              "True"
            ]
          },
          "metadata": {
            "tags": []
          },
          "execution_count": 5
        }
      ]
    },
    {
      "cell_type": "markdown",
      "metadata": {
        "id": "LlMkjgPdkO7t",
        "colab_type": "text"
      },
      "source": [
        "Syntax of if \n",
        "\n",
        "\n",
        "```\n",
        "if conditional_expression : \n",
        "      do something\n",
        "      do something else \n",
        "      1 \n",
        "      2 \n",
        " \n",
        "\n",
        "print(\"program completed\")\n",
        "\n",
        "```\n",
        "\n",
        "blocks of code \n",
        "\n",
        "indentation --  margin used to write code. \n",
        "\n",
        "\n",
        "make blocks same indentation. \n",
        "\n",
        "\n",
        "\n",
        "\n",
        "\n",
        "This will throw error. \n",
        "```\n",
        "if conditional_expression : \n",
        "      do something\n",
        "      do something else \n",
        " \n",
        "\n",
        "print(\"program completed\")\n",
        "\n",
        "```"
      ]
    },
    {
      "cell_type": "code",
      "metadata": {
        "id": "h7N1IrdQjbv8",
        "colab_type": "code",
        "colab": {}
      },
      "source": [
        "\n",
        "if units > 200 : \n",
        "  bill = rate_200 * units \n",
        "  print(\"total bill\")\n",
        "  \n",
        "  \n",
        "  \n",
        "  \n",
        "\n",
        "  \n",
        "  "
      ],
      "execution_count": 0,
      "outputs": []
    },
    {
      "cell_type": "code",
      "metadata": {
        "id": "MwY_6nFClbEu",
        "colab_type": "code",
        "colab": {}
      },
      "source": [
        "units = 300\n",
        "if units > 200 : \n",
        "  # do somthing\n",
        "  pass \n",
        "  \n",
        "else :\n",
        "  # do somthing else \n",
        "  pass\n",
        "  \n",
        "  "
      ],
      "execution_count": 0,
      "outputs": []
    },
    {
      "cell_type": "code",
      "metadata": {
        "id": "XZy3S5i1li3f",
        "colab_type": "code",
        "colab": {}
      },
      "source": [
        "if units > 200 and units < 300 : \n",
        "  # do somthings \n",
        "  pass\n",
        "elif units > 300 and units < 400:\n",
        "  # do somehting else \n",
        "  pass \n",
        "else :\n",
        "  # sdome ofshkighskjghfdkjag\n",
        "  pass\n",
        "  "
      ],
      "execution_count": 0,
      "outputs": []
    },
    {
      "cell_type": "markdown",
      "metadata": {
        "id": "tLqwZJ81mBCu",
        "colab_type": "text"
      },
      "source": [
        "**Write code that prints Hello if 1 is stored in spam, prints Howdy if 2 is stored in spam, and prints Greetings! if anything else is stored in spam.**\n",
        "\n"
      ]
    },
    {
      "cell_type": "code",
      "metadata": {
        "id": "wCM72_81l7gl",
        "colab_type": "code",
        "outputId": "278ec292-4292-41e7-9406-f00f06bd3a0e",
        "colab": {
          "base_uri": "https://localhost:8080/",
          "height": 34
        }
      },
      "source": [
        "spam = 2\n",
        "\n",
        "if spam == 1:\n",
        "  print(\"Hello\")\n",
        "elif spam == 2:\n",
        "  print(\"Howdy!\")\n",
        "else :\n",
        "  print(\"Greetings!\")"
      ],
      "execution_count": 0,
      "outputs": [
        {
          "output_type": "stream",
          "text": [
            "Howdy!\n"
          ],
          "name": "stdout"
        }
      ]
    },
    {
      "cell_type": "code",
      "metadata": {
        "id": "1noMAYY7mtBy",
        "colab_type": "code",
        "colab": {}
      },
      "source": [
        ""
      ],
      "execution_count": 0,
      "outputs": []
    }
  ]
}