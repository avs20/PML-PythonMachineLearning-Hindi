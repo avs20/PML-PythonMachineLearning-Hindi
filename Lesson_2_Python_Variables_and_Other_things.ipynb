{
  "nbformat": 4,
  "nbformat_minor": 0,
  "metadata": {
    "colab": {
      "name": "Lesson-2-Python-Variables-and-Other-things.ipynb",
      "version": "0.3.2",
      "provenance": []
    },
    "kernelspec": {
      "name": "python3",
      "display_name": "Python 3"
    }
  },
  "cells": [
    {
      "cell_type": "code",
      "metadata": {
        "id": "g1XCm8sO2WUW",
        "colab_type": "code",
        "colab": {
          "base_uri": "https://localhost:8080/",
          "height": 35
        },
        "outputId": "0fc79e7d-ac23-485a-dc47-251c3f1d982c"
      },
      "source": [
        "2+3"
      ],
      "execution_count": 1,
      "outputs": [
        {
          "output_type": "execute_result",
          "data": {
            "text/plain": [
              "5"
            ]
          },
          "metadata": {
            "tags": []
          },
          "execution_count": 1
        }
      ]
    },
    {
      "cell_type": "code",
      "metadata": {
        "id": "ihWvEAqu2lEN",
        "colab_type": "code",
        "colab": {
          "base_uri": "https://localhost:8080/",
          "height": 35
        },
        "outputId": "51f0abcd-f184-4fcb-8b5f-de5d7c804b75"
      },
      "source": [
        "2*3"
      ],
      "execution_count": 2,
      "outputs": [
        {
          "output_type": "execute_result",
          "data": {
            "text/plain": [
              "6"
            ]
          },
          "metadata": {
            "tags": []
          },
          "execution_count": 2
        }
      ]
    },
    {
      "cell_type": "markdown",
      "metadata": {
        "id": "YWANmy8l2n_C",
        "colab_type": "text"
      },
      "source": [
        "P*R*T / 100\n",
        "\n",
        "p principal\n",
        "r rate \n",
        "t time "
      ]
    },
    {
      "cell_type": "code",
      "metadata": {
        "id": "F5_mFja72yiW",
        "colab_type": "code",
        "colab": {
          "base_uri": "https://localhost:8080/",
          "height": 35
        },
        "outputId": "b7d611d9-2f45-460a-c6ac-a562a321fe95"
      },
      "source": [
        "1000*7.5*3/100"
      ],
      "execution_count": 3,
      "outputs": [
        {
          "output_type": "execute_result",
          "data": {
            "text/plain": [
              "225.0"
            ]
          },
          "metadata": {
            "tags": []
          },
          "execution_count": 3
        }
      ]
    },
    {
      "cell_type": "code",
      "metadata": {
        "id": "DY0uifw73EPv",
        "colab_type": "code",
        "colab": {
          "base_uri": "https://localhost:8080/",
          "height": 35
        },
        "outputId": "d9c91a36-f647-4123-c88a-c3c232a21d29"
      },
      "source": [
        "1500*7.9*1/100"
      ],
      "execution_count": 4,
      "outputs": [
        {
          "output_type": "execute_result",
          "data": {
            "text/plain": [
              "118.5"
            ]
          },
          "metadata": {
            "tags": []
          },
          "execution_count": 4
        }
      ]
    },
    {
      "cell_type": "code",
      "metadata": {
        "id": "Sfy3qS993H9O",
        "colab_type": "code",
        "colab": {}
      },
      "source": [
        "principal = 1500\n",
        "time = 1\n",
        "rate = 7.5\n",
        "name = \"Ashutosh Singh\""
      ],
      "execution_count": 0,
      "outputs": []
    },
    {
      "cell_type": "markdown",
      "metadata": {
        "id": "DhNDnmmc4xmV",
        "colab_type": "text"
      },
      "source": [
        "Variables are boxes in python \n",
        "a box can contain any value \n",
        "\n",
        "## How to define variable \n",
        "\n",
        "variable_name = value \n",
        "\n",
        "Variable name \n",
        "\n",
        "1. Should be 1 word \n",
        "2. letter, numbers aur _ : ashutosh_singh_24\n",
        "3. Can't start with numbers  --> 24_ashutosh not ok, _ashutosh ok, \n",
        "\n",
        "keywords ---> special word in python which do specific task. \n",
        "\n",
        "\n"
      ]
    },
    {
      "cell_type": "markdown",
      "metadata": {
        "id": "uJy4RRnu5sRn",
        "colab_type": "text"
      },
      "source": [
        "Integers - e.g 0 , 1 ,2 -1,-3, 5, 22767, 32656, 65535,\n",
        "\n",
        "Floats e.g. - 1.0, 2.4 .34232344334.65374982743\n",
        "\n",
        "Strings e.g- \"ashutosh\", 'ashutosh', '25',''23''\n",
        "\n"
      ]
    },
    {
      "cell_type": "markdown",
      "metadata": {
        "id": "5di_OtEV5rs7",
        "colab_type": "text"
      },
      "source": [
        "### Operator \n",
        "\n",
        "```\n",
        "name = \"ashutosh\"\n",
        "\n",
        "age = 28 \n",
        "\n",
        "salary = 1575013.27\n",
        "```\n",
        "\n",
        "|operator | name |\n",
        "|--------------|------------|\n",
        "|=| assignment operator|\n",
        "|+| addition operator |\n",
        "|-| subtraction operator |\n",
        "|*| multiplication operator \n",
        "|/| division operator\n",
        "|//| integer division \n",
        "|%| remainder operator / modulus operator \n",
        "|**| exponenet operator / power karne wala (^) in other languages  "
      ]
    },
    {
      "cell_type": "code",
      "metadata": {
        "id": "HVdMTvz77UYh",
        "colab_type": "code",
        "colab": {
          "base_uri": "https://localhost:8080/",
          "height": 35
        },
        "outputId": "83ea1894-2b16-44c6-de37-19ed16e367ae"
      },
      "source": [
        "28+1"
      ],
      "execution_count": 5,
      "outputs": [
        {
          "output_type": "execute_result",
          "data": {
            "text/plain": [
              "29"
            ]
          },
          "metadata": {
            "tags": []
          },
          "execution_count": 5
        }
      ]
    },
    {
      "cell_type": "code",
      "metadata": {
        "id": "jnNVaabf7ZBv",
        "colab_type": "code",
        "colab": {}
      },
      "source": [
        "age=28"
      ],
      "execution_count": 0,
      "outputs": []
    },
    {
      "cell_type": "code",
      "metadata": {
        "id": "ra3MSAhS7aWp",
        "colab_type": "code",
        "colab": {
          "base_uri": "https://localhost:8080/",
          "height": 35
        },
        "outputId": "6bf22c34-6640-454e-fcda-62d6f6408afd"
      },
      "source": [
        "age+1"
      ],
      "execution_count": 8,
      "outputs": [
        {
          "output_type": "execute_result",
          "data": {
            "text/plain": [
              "29"
            ]
          },
          "metadata": {
            "tags": []
          },
          "execution_count": 8
        }
      ]
    },
    {
      "cell_type": "code",
      "metadata": {
        "id": "OXNaI0oY7d2S",
        "colab_type": "code",
        "colab": {
          "base_uri": "https://localhost:8080/",
          "height": 35
        },
        "outputId": "4659dd86-4d9b-4708-c3f5-5a4fdc694122"
      },
      "source": [
        "age-1"
      ],
      "execution_count": 9,
      "outputs": [
        {
          "output_type": "execute_result",
          "data": {
            "text/plain": [
              "27"
            ]
          },
          "metadata": {
            "tags": []
          },
          "execution_count": 9
        }
      ]
    },
    {
      "cell_type": "code",
      "metadata": {
        "id": "C08qbMZA7gzq",
        "colab_type": "code",
        "colab": {
          "base_uri": "https://localhost:8080/",
          "height": 35
        },
        "outputId": "92945105-ed00-40ef-fa09-9766d834b8d1"
      },
      "source": [
        "age*2"
      ],
      "execution_count": 10,
      "outputs": [
        {
          "output_type": "execute_result",
          "data": {
            "text/plain": [
              "56"
            ]
          },
          "metadata": {
            "tags": []
          },
          "execution_count": 10
        }
      ]
    },
    {
      "cell_type": "code",
      "metadata": {
        "id": "37DTrSah7jpx",
        "colab_type": "code",
        "colab": {
          "base_uri": "https://localhost:8080/",
          "height": 35
        },
        "outputId": "5f943315-16e8-467b-a9ec-c8cd4e6e46d3"
      },
      "source": [
        "age/2"
      ],
      "execution_count": 11,
      "outputs": [
        {
          "output_type": "execute_result",
          "data": {
            "text/plain": [
              "14.0"
            ]
          },
          "metadata": {
            "tags": []
          },
          "execution_count": 11
        }
      ]
    },
    {
      "cell_type": "code",
      "metadata": {
        "id": "tYKN8Srn7lgq",
        "colab_type": "code",
        "colab": {
          "base_uri": "https://localhost:8080/",
          "height": 35
        },
        "outputId": "63cd2d43-5622-4d9a-d4a9-ad84bc3467c2"
      },
      "source": [
        "age // 2"
      ],
      "execution_count": 12,
      "outputs": [
        {
          "output_type": "execute_result",
          "data": {
            "text/plain": [
              "14"
            ]
          },
          "metadata": {
            "tags": []
          },
          "execution_count": 12
        }
      ]
    },
    {
      "cell_type": "code",
      "metadata": {
        "id": "I6N1HvzG7qQb",
        "colab_type": "code",
        "colab": {
          "base_uri": "https://localhost:8080/",
          "height": 35
        },
        "outputId": "605e1b27-32e0-4b32-ce64-ef3a490b2b80"
      },
      "source": [
        "age % 10"
      ],
      "execution_count": 13,
      "outputs": [
        {
          "output_type": "execute_result",
          "data": {
            "text/plain": [
              "8"
            ]
          },
          "metadata": {
            "tags": []
          },
          "execution_count": 13
        }
      ]
    },
    {
      "cell_type": "code",
      "metadata": {
        "id": "JClapgIY7w42",
        "colab_type": "code",
        "colab": {
          "base_uri": "https://localhost:8080/",
          "height": 35
        },
        "outputId": "51467aa7-3198-4618-e92a-39f95aab05d5"
      },
      "source": [
        "num = 2 \n",
        "num**5"
      ],
      "execution_count": 14,
      "outputs": [
        {
          "output_type": "execute_result",
          "data": {
            "text/plain": [
              "32"
            ]
          },
          "metadata": {
            "tags": []
          },
          "execution_count": 14
        }
      ]
    },
    {
      "cell_type": "code",
      "metadata": {
        "id": "PIZtzE-j74Ie",
        "colab_type": "code",
        "colab": {
          "base_uri": "https://localhost:8080/",
          "height": 35
        },
        "outputId": "1732b3ff-9bf7-4415-b550-a7831ddad7d1"
      },
      "source": [
        "name = \"ashutosh\"\n",
        "name*2"
      ],
      "execution_count": 15,
      "outputs": [
        {
          "output_type": "execute_result",
          "data": {
            "text/plain": [
              "'ashutoshashutosh'"
            ]
          },
          "metadata": {
            "tags": []
          },
          "execution_count": 15
        }
      ]
    },
    {
      "cell_type": "code",
      "metadata": {
        "id": "B0xzMBvUFwKL",
        "colab_type": "code",
        "colab": {}
      },
      "source": [
        "name = name*2"
      ],
      "execution_count": 0,
      "outputs": []
    },
    {
      "cell_type": "code",
      "metadata": {
        "id": "FBJC2NtrFz1K",
        "colab_type": "code",
        "colab": {
          "base_uri": "https://localhost:8080/",
          "height": 35
        },
        "outputId": "7167fb71-c721-45d4-edc1-42cababd874c"
      },
      "source": [
        "name"
      ],
      "execution_count": 18,
      "outputs": [
        {
          "output_type": "execute_result",
          "data": {
            "text/plain": [
              "'ashutoshashutosh'"
            ]
          },
          "metadata": {
            "tags": []
          },
          "execution_count": 18
        }
      ]
    },
    {
      "cell_type": "code",
      "metadata": {
        "id": "MZihTMaoF738",
        "colab_type": "code",
        "colab": {
          "base_uri": "https://localhost:8080/",
          "height": 167
        },
        "outputId": "3513da2b-612a-4e2a-fedf-1d21a9727b6c"
      },
      "source": [
        "name / 2"
      ],
      "execution_count": 19,
      "outputs": [
        {
          "output_type": "error",
          "ename": "TypeError",
          "evalue": "ignored",
          "traceback": [
            "\u001b[0;31m---------------------------------------------------------------------------\u001b[0m",
            "\u001b[0;31mTypeError\u001b[0m                                 Traceback (most recent call last)",
            "\u001b[0;32m<ipython-input-19-a4132eebea4a>\u001b[0m in \u001b[0;36m<module>\u001b[0;34m()\u001b[0m\n\u001b[0;32m----> 1\u001b[0;31m \u001b[0mname\u001b[0m \u001b[0;34m/\u001b[0m \u001b[0;36m2\u001b[0m\u001b[0;34m\u001b[0m\u001b[0;34m\u001b[0m\u001b[0m\n\u001b[0m",
            "\u001b[0;31mTypeError\u001b[0m: unsupported operand type(s) for /: 'str' and 'int'"
          ]
        }
      ]
    },
    {
      "cell_type": "code",
      "metadata": {
        "id": "99WznxTCF_C1",
        "colab_type": "code",
        "colab": {}
      },
      "source": [
        "# single line comment \n",
        "\n",
        "# the line below with multiply name by 2 or copy the name 2 times \n",
        "name = name * 2"
      ],
      "execution_count": 0,
      "outputs": []
    },
    {
      "cell_type": "code",
      "metadata": {
        "id": "gR5Txf9nGf8S",
        "colab_type": "code",
        "colab": {
          "base_uri": "https://localhost:8080/",
          "height": 35
        },
        "outputId": "c71d9537-b775-4771-e926-134928cc8d57"
      },
      "source": [
        "name"
      ],
      "execution_count": 21,
      "outputs": [
        {
          "output_type": "execute_result",
          "data": {
            "text/plain": [
              "'ashutoshashutoshashutoshashutosh'"
            ]
          },
          "metadata": {
            "tags": []
          },
          "execution_count": 21
        }
      ]
    },
    {
      "cell_type": "code",
      "metadata": {
        "id": "8yl7A30vGmsZ",
        "colab_type": "code",
        "colab": {
          "base_uri": "https://localhost:8080/",
          "height": 35
        },
        "outputId": "53e051cd-fc4a-410e-a965-14deec172d73"
      },
      "source": [
        "print(name)"
      ],
      "execution_count": 22,
      "outputs": [
        {
          "output_type": "stream",
          "text": [
            "ashutoshashutoshashutoshashutosh\n"
          ],
          "name": "stdout"
        }
      ]
    },
    {
      "cell_type": "code",
      "metadata": {
        "id": "Ax7YNgZjGo7j",
        "colab_type": "code",
        "colab": {
          "base_uri": "https://localhost:8080/",
          "height": 132
        },
        "outputId": "a86895a6-1c95-45c7-8f39-bb42c62f083d"
      },
      "source": [
        "'''\n",
        "\n",
        "This is multiline comment \n",
        "This is the next line in the multiline comment \n",
        "\n",
        "\n",
        "'''\n",
        "\n",
        "# this is single line comment \n",
        "ok this is next lin "
      ],
      "execution_count": 23,
      "outputs": [
        {
          "output_type": "error",
          "ename": "SyntaxError",
          "evalue": "ignored",
          "traceback": [
            "\u001b[0;36m  File \u001b[0;32m\"<ipython-input-23-a232959a7a91>\"\u001b[0;36m, line \u001b[0;32m10\u001b[0m\n\u001b[0;31m    ok this is next lin\u001b[0m\n\u001b[0m          ^\u001b[0m\n\u001b[0;31mSyntaxError\u001b[0m\u001b[0;31m:\u001b[0m invalid syntax\n"
          ]
        }
      ]
    },
    {
      "cell_type": "code",
      "metadata": {
        "id": "nW9NZIHjG0v7",
        "colab_type": "code",
        "colab": {}
      },
      "source": [
        ""
      ],
      "execution_count": 0,
      "outputs": []
    }
  ]
}